{
 "cells": [
  {
   "cell_type": "code",
   "execution_count": 123,
   "id": "6ac98ebc",
   "metadata": {},
   "outputs": [],
   "source": [
    "#installing packages\n",
    "\n",
    "# 1. pandas library installation\n",
    "# these packages has been to be run either in command prompt or anaconda prompt \n",
    "# type \"command prompt\" in search option and type \"pip install pandas\"\n",
    "# or if you have anaconda prompt installed, type \"anaconda prompt\" in search option and then\n",
    "# For installing pandas packages in anaconda ==> \"conda install pandas\"\n",
    "\n",
    "# 2. scikit-learn library installation\n",
    "# these packages has been to be run either in command prompt or anaconda prompt \n",
    "# type \"command prompt\" in search option and type \"pip install -U scikit-learn\"\n",
    "# or if you have anaconda prompt installed, type \"anaconda prompt\" in search option and then\n",
    "# For installing scikit-learn packages in anaconda ==> \"conda install scikit-learn\"\n",
    "\n",
    "import pandas as pd\n",
    "\n",
    "indept_df = pd.read_csv(r\"C:\\Users\\safic\\Desktop\\peers\\input\\Learning Catalogue 2.csv\") #input file\n",
    "dept_df = pd.read_excel(r'C:\\Users\\safic\\Desktop\\peers\\input\\Sample_Skills.xlsx',sheet_name='Sheet1',engine='openpyxl') #input file"
   ]
  },
  {
   "cell_type": "code",
   "execution_count": 124,
   "id": "e28e66f0",
   "metadata": {},
   "outputs": [],
   "source": [
    "# using dropna() function we will be removing the empty or (NaN) rows and columns in the DataFrame\n",
    "\n",
    "dept_df = dept_df.dropna() "
   ]
  },
  {
   "cell_type": "code",
   "execution_count": 125,
   "id": "9d105719",
   "metadata": {},
   "outputs": [],
   "source": [
    "from sklearn.metrics.pairwise import cosine_similarity # cosine similarity is a metric used to measure the similarity of two vectors\n",
    "from sklearn.feature_extraction.text import TfidfVectorizer # TfidfVectorizer is a numerical statistic that measures the importance of the word in a document\n",
    "tfidf = TfidfVectorizer(sublinear_tf=True, norm='l2', encoding='latin-1', ngram_range=(1, 2)) # word embedding is done by converting each word into numbers"
   ]
  },
  {
   "cell_type": "code",
   "execution_count": 126,
   "id": "41387c2d",
   "metadata": {},
   "outputs": [],
   "source": [
    "Matched_Skill = pd.DataFrame()\n",
    "for i in range(0,len(indept_df)):\n",
    "    dff = indept_df.filter(items = [i], axis=0)\n",
    "    desc_vectorizer = tfidf.fit_transform(dff['Description']).toarray() # vectorising the description part\n",
    "    skill_vectorizer = tfidf.transform(dept_df['Skill']).toarray() # vectorising the skill part\n",
    "    \n",
    "    df2 = dept_df.copy()\n",
    "    df2['Similarity_Score'] = cosine_similarity(skill_vectorizer,desc_vectorizer) # occuring the similarity score by using the cosine similarity\n",
    "    \n",
    "    df2 = df2.sort_values(by = 'Similarity_Score', ascending = False).reset_index(drop=True) # to have the score from the descending order\n",
    "    \n",
    "    df2 = df2.head(5) \n",
    "    \n",
    "    M_Skill = pd.DataFrame()\n",
    "    M_Skill['Skill'] = df2['Skill']\n",
    "    M_Skill['Similarity_Score'] = df2['Similarity_Score']\n",
    "    M_Skill['Title'] = dff['Title'][i]\n",
    "    M_Skill['Description'] = dff['Description'][i]\n",
    "\n",
    "    Matched_Skill = Matched_Skill.append(M_Skill,ignore_index=True) \n",
    "    "
   ]
  },
  {
   "cell_type": "code",
   "execution_count": 127,
   "id": "6f6d1944",
   "metadata": {},
   "outputs": [],
   "source": [
    "Matched_Skill.to_csv(r'C:\\Users\\safic\\Desktop\\peers\\output\\matched_skill.csv') # output file"
   ]
  }
 ],
 "metadata": {
  "kernelspec": {
   "display_name": "Python 3 (ipykernel)",
   "language": "python",
   "name": "python3"
  },
  "language_info": {
   "codemirror_mode": {
    "name": "ipython",
    "version": 3
   },
   "file_extension": ".py",
   "mimetype": "text/x-python",
   "name": "python",
   "nbconvert_exporter": "python",
   "pygments_lexer": "ipython3",
   "version": "3.7.10"
  }
 },
 "nbformat": 4,
 "nbformat_minor": 5
}
